{
  "cells": [
    {
      "cell_type": "code",
      "execution_count": null,
      "metadata": {},
      "outputs": [],
      "source": [
        "!pip install googletrans==4.0.0-rc1            "
      ]
    },
    {
      "cell_type": "code",
      "execution_count": null,
      "metadata": {
        "id": "htWdVeOIM1H5"
      },
      "outputs": [],
      "source": [
        "from google.colab import drive\n",
        "drive.mount('/content/drive')"
      ]
    },
    {
      "cell_type": "code",
      "execution_count": null,
      "metadata": {
        "id": "CpGr4-mbXhJX"
      },
      "outputs": [],
      "source": [
        "import googletrans\n",
        "from googletrans import Translator\n",
        "import pandas as pd\n",
        "import json"
      ]
    },
    {
      "cell_type": "code",
      "execution_count": null,
      "metadata": {
        "id": "xNB9bHvXXA4b"
      },
      "outputs": [],
      "source": [
        "def jsonload(fname, encoding=\"utf-8\"):\n",
        "    with open(fname, encoding=encoding) as f:\n",
        "        j = json.load(f)\n",
        "\n",
        "    return j\n",
        "\n",
        "# json 개체를 파일이름으로 깔끔하게 저장\n",
        "def jsondump(j, fname):\n",
        "    with open(fname, \"w\", encoding=\"UTF8\") as f:\n",
        "        json.dump(j, f, ensure_ascii=False)\n",
        "\n",
        "# jsonl 파일 읽어서 list에 저장\n",
        "def jsonlload(fname, encoding=\"utf-8\"):\n",
        "    json_list = []\n",
        "    with open(fname, encoding=encoding) as f:\n",
        "        for line in f.readlines():\n",
        "            json_list.append(json.loads(line))\n",
        "    return json_list"
      ]
    },
    {
      "cell_type": "code",
      "execution_count": null,
      "metadata": {
        "id": "Rli3J4RKDZsJ"
      },
      "outputs": [],
      "source": [
        "translator = Translator()"
      ]
    },
    {
      "cell_type": "code",
      "execution_count": null,
      "metadata": {
        "id": "B-nNL-YO2lx9"
      },
      "outputs": [],
      "source": [
        "df = pd.DataFrame(jsonlload(''))"
      ]
    },
    {
      "cell_type": "code",
      "execution_count": null,
      "metadata": {
        "id": "8_YYBs1c2B2N"
      },
      "outputs": [],
      "source": [
        "category_name = ''\n",
        "\n",
        "dic_category = {'id' : [], 'sentence_form' : [], 'annotation' : []}\n",
        "\n",
        "for i in range(len(df)) :\n",
        "    if category_name in str(df['annotation'][i]) and len(df['annotation'][i]) == 1 :\n",
        "        dic_category['id'].append(df['id'][i])\n",
        "        dic_category['annotation'].append(df['annotation'][i])\n",
        "        dic_category['sentence_form'].append(df['sentence_form'][i])\n",
        "\n",
        "df_category = pd.DataFrame(dic_category)\n",
        "\n",
        "dic_translation = {'id' : [], 'sentence_form': [], 'annotation' : []}\n",
        "\n",
        "# 한국어 => 일본어 => 한국어\n",
        "for i in range(len(df)) :\n",
        "    dic_translation['id'].append(df['id'][i])\n",
        "    dic_translation['annotation'].append(df['annotation'][i])\n",
        "    dic_translation['sentence_form'].append(translator.translate(translator.translate(df['sentence_form'][i], dest = 'ja').text, dest = 'ko').text)\n",
        "\n",
        "df_translation = pd.DataFrame(dic_translation)\n",
        "\n",
        "df_final = pd.concat([df_category, df_translation]).sample(frac = 1).reset_index().drop_duplicates(['sentence_form'])\n",
        "df_final"
      ]
    }
  ],
  "metadata": {
    "accelerator": "GPU",
    "colab": {
      "collapsed_sections": [
        "xB65DhbbpylF",
        "I13yCxmMaW4s",
        "0yscNFAQae6h",
        "_LEGinPC0ap6",
        "Ug439U3Z7Ntw",
        "sJBdc0pDJbBK"
      ],
      "machine_shape": "hm",
      "provenance": []
    },
    "kernelspec": {
      "display_name": "Python 3",
      "name": "python3"
    },
    "language_info": {
      "name": "python"
    }
  },
  "nbformat": 4,
  "nbformat_minor": 0
}
