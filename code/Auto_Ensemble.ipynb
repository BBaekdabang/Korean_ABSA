{
  "nbformat": 4,
  "nbformat_minor": 0,
  "metadata": {
    "colab": {
      "provenance": [],
      "collapsed_sections": [
        "5R1RAPnsKUIt",
        "AJgKpDfuIru1",
        "fwgKWt7uWXPG"
      ]
    },
    "kernelspec": {
      "name": "python3",
      "display_name": "Python 3"
    },
    "language_info": {
      "name": "python"
    }
  },
  "cells": [
    {
      "cell_type": "markdown",
      "source": [
        "#import, 설치, 구글 드라이브 마운트"
      ],
      "metadata": {
        "id": "5R1RAPnsKUIt"
      }
    },
    {
      "cell_type": "code", 
      "execution_count": null,
      "metadata": {
        "id": "_RDH-YQsQ2K0"
      },
      "outputs": [],
      "source": [
        "!pip install transformers"
      ]
    },
    {
      "cell_type": "code",
      "execution_count": null,
      "metadata": {
        "id": "gmtfOHQSQ-nS"
      },
      "outputs": [],
      "source": [
        "!pip install datasets"
      ]
    },
    {
      "cell_type": "code",
      "execution_count": null,
      "metadata": {
        "id": "qLnBHUF1eqZc"
      },
      "outputs": [],
      "source": [
        "from google.colab import drive\n",
        "drive.mount('/content/drive')"
      ]
    },
    {
      "cell_type": "code",
      "execution_count": null,
      "metadata": {
        "id": "8LDwADWNMpsC"
      },
      "outputs": [],
      "source": [
        "import json\n",
        "import os\n",
        "\n",
        "import torch\n",
        "import torch.nn as nn\n",
        "from tqdm import trange\n",
        "from transformers import XLMRobertaModel, AutoTokenizer\n",
        "from torch.utils.data import DataLoader, TensorDataset\n",
        "from transformers import get_linear_schedule_with_warmup\n",
        "from transformers import AdamW\n",
        "from datasets import load_metric\n",
        "from sklearn.metrics import f1_score\n",
        "import pandas as pd\n",
        "import copy\n",
        "\n",
        "import json\n",
        "import pandas as pd\n",
        "\n",
        "from collections import Counter\n",
        "\n",
        "from random import randint "
      ]
    },
    {
      "cell_type": "markdown",
      "metadata": {
        "id": "xGmH15hCeqhJ"
      },
      "source": [
        "json 및 jsonl 파일 read, write 함수"
      ]
    },
    {
      "cell_type": "code",
      "execution_count": null,
      "metadata": {
        "id": "6vGeHU4yP2Sg"
      },
      "outputs": [],
      "source": [
        "def jsonload(fname, encoding=\"utf-8\"):\n",
        "    with open(fname, encoding=encoding) as f:\n",
        "        j = json.load(f)\n",
        "\n",
        "    return j\n",
        "\n",
        "\n",
        "# json 개체를 파일이름으로 깔끔하게 저장\n",
        "def jsondump(j, fname):\n",
        "    with open(fname, \"w\", encoding=\"UTF8\") as f:\n",
        "        json.dump(j, f, ensure_ascii=False)\n",
        "\n",
        "# jsonl 파일 읽어서 list에 저장\n",
        "def jsonlload(fname, encoding=\"utf-8\"):\n",
        "    json_list = []\n",
        "    with open(fname, encoding=encoding) as f:\n",
        "        for line in f.readlines():\n",
        "            json_list.append(json.loads(line))\n",
        "    return json_list"
      ]
    },
    {
      "cell_type": "markdown",
      "source": [
        "# Auto Ensemble 사전 준비\n",
        "load model\n",
        "\n",
        "이름, 모델 개수, 저장 장소, 실행 횟수"
      ],
      "metadata": {
        "id": "-OdgjoyJJQGw"
      }
    },
    {
      "cell_type": "markdown",
      "source": [
        "## dataframe 리스트를 수정"
      ],
      "metadata": {
        "id": "klP8LX5BIyKO"
      }
    },
    {
      "cell_type": "code",
      "source": [
        "model_A = pd.DataFrame(jsonlload(\"/content/model_A.jsonl\"))\n",
        "model_B = pd.DataFrame(jsonlload(\"/content/model_B.jsonl\"))\n",
        "model_C = pd.DataFrame(jsonlload(\"/content/model_C.jsonl\"))\n",
        "model_D = pd.DataFrame(jsonlload(\"/content/model_D.jsonl\"))\n",
        "model_E = pd.DataFrame(jsonlload(\"/content/model_E.jsonl\"))"
      ],
      "metadata": {
        "id": "qzY3-qG8Iy-t"
      },
      "execution_count": null,
      "outputs": []
    },
    {
      "cell_type": "code",
      "source": [
        "ensemble_models = [model_A, model_B, model_C, model_D, model_E]\n",
        "\n",
        "\n",
        "# 위 모델 리스트 내용을 복사해서 ''' (여기) ''' 에 복사 붙여넣기\n",
        "ensemble_name = \"\"\"[model_A, model_B, model_C, model_D, model_E]\"\"\"\n",
        "\n",
        "\n",
        "ensemble_name = ensemble_name.replace(\"[\", \"\").replace(\"]\", \"\").replace(\" \", \"\").replace(\"\\n\", \"\")\n",
        "ensemble_name = ensemble_name.split(\",\")\n",
        "\n",
        "\n",
        "len(ensemble_models), len(ensemble_name)\n"
      ],
      "metadata": {
        "id": "l9gOy8ReIvj3"
      },
      "execution_count": null,
      "outputs": []
    },
    {
      "cell_type": "code",
      "source": [
        "# 이름을 입력하세요\n",
        "name = \"Auto_Ensemble\"\n",
        "\n",
        "# 몇 가지 모델을 앙상블 할까요?\n",
        "# 중복이 포함될 수 있습니다.\n",
        "num_of_ensemble_model = 15\n",
        "\n",
        "# 저장 장소  (마지막에 /도 써주세요)\n",
        "save_path = \"/content/\"\n",
        "\n",
        "# 오토앙상블을 몇 번 실행할까요?\n",
        "excute_num = 10"
      ],
      "metadata": {
        "id": "mAyzsdqXJQaf"
      },
      "execution_count": null,
      "outputs": []
    },
    {
      "cell_type": "code",
      "source": [
        "# 기록 파일 생성\n",
        "with open(save_path + name + \".txt\", \"w\") as file:\n",
        "    pass"
      ],
      "metadata": {
        "id": "-J-dL7XyU62F"
      },
      "execution_count": null,
      "outputs": []
    },
    {
      "cell_type": "markdown",
      "source": [
        "# function"
      ],
      "metadata": {
        "id": "AJgKpDfuIru1"
      }
    },
    {
      "cell_type": "markdown",
      "source": [
        "## (func) 오토 앙상블 모델조합 + 기록 "
      ],
      "metadata": {
        "id": "RrqydjT5SoYk"
      }
    },
    {
      "cell_type": "code",
      "source": [
        "def model_combination_and_recode(num):\n",
        "    automatic_ae = []\n",
        "    model_names = []\n",
        "\n",
        "    for i in range(num_of_ensemble_model):\n",
        "        idx = randint( 0, len(ensemble_models)-1 )\n",
        "        model = ensemble_models[ idx ]\n",
        "\n",
        "        automatic_ae.append( model )\n",
        "        model_names.append( ensemble_name[idx] )\n",
        "    \n",
        "    with open(save_path + name + \".txt\", \"r+\") as file:\n",
        "        while True:\n",
        "            s = file.readline()\n",
        "            if not s: \n",
        "                break\n",
        "        \n",
        "        file.write(name)\n",
        "        file.write(str(num))\n",
        "        file.write(\"=\")\n",
        "        file.write(str(model_names).replace(\"\\'\", \"\"))\n",
        "        file.write(\"\\n\")\n",
        "    print(name,\"_\", num, \" = \", str(model_names))\n",
        "\n",
        "    return automatic_ae\n"
      ],
      "metadata": {
        "id": "7enM67oySe6G"
      },
      "execution_count": null,
      "outputs": []
    },
    {
      "cell_type": "markdown",
      "source": [
        "## (func) 오토 앙상블 실행"
      ],
      "metadata": {
        "id": "InccejB5VsoN"
      }
    },
    {
      "cell_type": "code",
      "source": [
        "def excute_ensemble(automatic_ae):\n",
        "    dic_ae = {\n",
        "        'id' : [],\n",
        "        'sentence_form' : [],\n",
        "        'annotation' : []\n",
        "    }\n",
        "\n",
        "    models = automatic_ae \n",
        "\n",
        "\n",
        "    for i in range(len(models[0])):\n",
        "        tmp_divide = []\n",
        "\n",
        "        for j in models:\n",
        "            tmp_divide.append( str(j['annotation'][i]) )\n",
        "\n",
        "        answer = Counter(tmp_divide).most_common(n=1)[0][0]\n",
        "\n",
        "        check =  str(tmp_divide).replace(\"[\", \"\").replace(\"]\", \"\").replace(\",\", \"\").replace(\"\\'\", \"\").replace(\"\\\"\", \"\").replace(\" \", \"\")\n",
        "\n",
        "        if '[]' in answer and check is not \"\":\n",
        "            while '[]' in tmp_divide:\n",
        "                tmp_divide.remove('[]')\n",
        "            dic_ae['annotation'].append( tmp_divide[0] )\n",
        "        else:\n",
        "            dic_ae['annotation'].append( answer )\n",
        "        dic_ae['id'].append( j['id'][i] )\n",
        "        dic_ae['sentence_form'].append( j['sentence_form'][i] )\n",
        "\n",
        "    df_ae = pd.DataFrame( dic_ae )\n",
        "\n",
        "    return df_ae"
      ],
      "metadata": {
        "id": "NypiEjaAVzwR"
      },
      "execution_count": null,
      "outputs": []
    },
    {
      "cell_type": "markdown",
      "source": [
        "## (func) jsonl 파일로 저장"
      ],
      "metadata": {
        "id": "fwgKWt7uWXPG"
      }
    },
    {
      "cell_type": "code",
      "source": [
        "def save_jsonl(df_ae, num):\n",
        "\n",
        "    with open(save_path + \"{0}_{1}.jsonl\" .format(name, num), 'w') as file:\n",
        "        for i in range( len(df_ae) ):\n",
        "            annos = df_ae['annotation'][i]\n",
        "            str_annos = str(annos)\n",
        "            tmp = str_annos.replace(\"None\", \"null\").replace(\"\\'\", \"\\\"\")\n",
        "\n",
        "            file.write(  '{'+'\\\"id\\\": \\\"nikluge-sa-2022-{3}-{0}\\\", \\\"sentence_form\\\": \\\"{1}\\\", \\\"annotation\\\": {2}'\\\n",
        "                        .format( str(i+1).zfill(5)  ,   df_ae['sentence_form'][i], tmp, name ) +'}' )\n",
        "            file.write(\"\\n\")\n",
        "\n",
        "#{\"id\": \"nikluge-sa-2022-dev-00001\", \"sentence_form\": \"깔끔하게 부직포 포장으로 되어 있어서 그냥 뜨거운 물에 풍덩 넣어놓고 좀 휘젓어주면 금방 우러난다.\", \"annotation\": [[\"본품#편의성\", [\"부직포 포장\", 5, 11], \"positive\"]]}\n",
        "# 0은 숫자, 1은 sentence, 2는 annotation, 3은 file_name(파일이름)"
      ],
      "metadata": {
        "id": "8rvWcFthWdXJ"
      },
      "execution_count": null,
      "outputs": []
    },
    {
      "cell_type": "markdown",
      "source": [
        "# 앙상블 시작"
      ],
      "metadata": {
        "id": "zHsXN2fQXmIU"
      }
    },
    {
      "cell_type": "code",
      "source": [
        "start_num = 1\n",
        "\n",
        "\n",
        "#####\n",
        "\n",
        "for i in range( start_num,  excute_num + start_num) :\n",
        "    models = model_combination_and_recode(i)\n",
        "    ensemble_model = excute_ensemble(models)\n",
        "    save_jsonl(ensemble_model, i)"
      ],
      "metadata": {
        "id": "KNKgEmmaXj3F"
      },
      "execution_count": null,
      "outputs": []
    },
    {
      "cell_type": "markdown",
      "source": [
        "## 잘 열리는지 test"
      ],
      "metadata": {
        "id": "hF3RtOQT5o4I"
      }
    },
    {
      "cell_type": "code",
      "source": [
        "file_name = 'Auto_Ensemble_1'\n",
        "\n",
        "df_test =  pd.DataFrame(jsonlload(\"/content/{0}.jsonl\". format(file_name)))\n",
        "df_test"
      ],
      "metadata": {
        "id": "ikzGIbTW5omN"
      },
      "execution_count": null,
      "outputs": []
    },
    {
      "cell_type": "code",
      "source": [],
      "metadata": {
        "id": "P064eNxIKOn3"
      },
      "execution_count": null,
      "outputs": []
    }
  ]
}
