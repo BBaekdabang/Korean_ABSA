{
  "nbformat": 4,
  "nbformat_minor": 0,
  "metadata": {
    "colab": {
      "provenance": [],
      "collapsed_sections": []
    },
    "kernelspec": {
      "name": "python3",
      "display_name": "Python 3"
    },
    "language_info": {
      "name": "python"
    }
  },
  "cells": [
    {
      "cell_type": "code",
      "source": [
        "from google.colab import drive\n",
        "drive.mount('/content/drive')"
      ],
      "metadata": {
        "id": "V9SuVLBfSDzs"
      },
      "execution_count": null,
      "outputs": []
    },
    {
      "cell_type": "code",
      "source": [
        "import pandas as pd\n",
        "import requests\n",
        "import json"
      ],
      "metadata": {
        "id": "umRpim32SI3n"
      },
      "execution_count": null,
      "outputs": []
    },
    {
      "cell_type": "code",
      "source": [
        "result = []\n",
        "\n",
        "# client_id / client_secret 입력 #\n",
        "client_id = \"\"  \n",
        "client_secret = \"\" \n",
        "#################################\n",
        "\n",
        "url=\"https://naveropenapi.apigw.ntruss.com/sentiment-analysis/v1/analyze\"\n",
        "\n",
        "headers = {\n",
        "    \"X-NCP-APIGW-API-KEY-ID\": client_id,\n",
        "    \"X-NCP-APIGW-API-KEY\": client_secret,\n",
        "    \"Content-Type\": \"application/json\"\n",
        "}\n",
        "\n",
        "for i in range(len(df)) :\n",
        "    data = {\n",
        "    \"content\": df['sentence_form'][i]\n",
        "    }\n",
        "    response = requests.post(url, data = json.dumps(data), headers = headers)\n",
        "\n",
        "    result.append(response.text)\n",
        "\n",
        "dic_sentiment_positive = {'sentence' : [], 'sentiment' : []}\n",
        "dic_sentiment_neutral = {'sentence' : [], 'sentiment' : []}\n",
        "dic_sentiment_negative = {'sentence' : [], 'sentiment' : []}\n",
        "\n",
        "for i in range(len(result)) :\n",
        "\n",
        "    tmp = eval(result[i])\n",
        "\n",
        "    if 'error' in tmp :\n",
        "        continue\n",
        "        \n",
        "    for j in range(len(tmp['sentences'])) :\n",
        "\n",
        "        if tmp['sentences'][j]['sentiment'] == 'neutral' :\n",
        "\n",
        "            dic_sentiment_neutral['sentence'].append(tmp['sentences'][j]['content'])\n",
        "            dic_sentiment_neutral['sentiment'].append(tmp['sentences'][j]['sentiment'])\n",
        "\n",
        "        elif tmp['sentences'][j]['sentiment'] == 'negative' :\n",
        "            dic_sentiment_negative['sentence'].append(tmp['sentences'][j]['content'])\n",
        "            dic_sentiment_negative['sentiment'].append(tmp['sentences'][j]['sentiment'])      \n",
        "\n",
        "        elif tmp['sentences'][j]['sentiment'] == 'positive' :\n",
        "            dic_sentiment_positive['sentence'].append(tmp['sentences'][j]['content'])\n",
        "            dic_sentiment_positive['sentiment'].append(tmp['sentences'][j]['sentiment'])      \n"
      ],
      "metadata": {
        "id": "XpMm9e7onP5j"
      },
      "execution_count": null,
      "outputs": []
    },
    {
      "cell_type": "code",
      "source": [
        "dic_sentiment = { 'sentence' : [], 'sentiment' : []}\n",
        "\n",
        "for i in range(len(result)) :\n",
        "\n",
        "    tmp = eval(result[i])\n",
        "\n",
        "    if 'error' in tmp :\n",
        "        continue\n",
        "        \n",
        "    for j in range(len(tmp['sentences'])) :\n",
        "\n",
        "        dic_sentiment['sentence'].append(tmp['sentences'][j]['content'])\n",
        "        dic_sentiment['sentiment'].append(tmp['sentences'][j]['sentiment'])\n",
        "        \n",
        "df_sentiment = pd.DataFrame(dic_sentiment)\n",
        "\n",
        "cnt_p = 0\n",
        "cnt_u = 0\n",
        "cnt_n = 0\n",
        "\n",
        "for i in range(len(df_sentiment)) :\n",
        "    \n",
        "    if df_sentiment['sentiment'][i] == 'positive' :\n",
        "        cnt_p += 1\n",
        "\n",
        "    elif df_sentiment['sentiment'][i] == 'neutral' :\n",
        "        cnt_u += 1\n",
        "\n",
        "    elif df_sentiment['sentiment'][i] == 'negative' :\n",
        "        cnt_n += 1\n",
        "\n",
        "print(cnt_p, cnt_u, cnt_n)"
      ],
      "metadata": {
        "id": "d_vkpc35oPDz"
      },
      "execution_count": null,
      "outputs": []
    },
    {
      "cell_type": "code",
      "source": [
        "with open('Pola_positive_data.txt', 'w') as file:\n",
        "\n",
        "    \n",
        "    for i in range( len(pd.DataFrame(dic_sentiment_positive))):\n",
        "        try :\n",
        "            tmp = pd.DataFrame(dic_sentiment_positive)['sentiment'][i]\n",
        "\n",
        "            cmp = pd.DataFrame(dic_sentiment_positive)['sentence'][i]\n",
        "\n",
        "            file.write( \"{0}, {1}\" .format(cmp,tmp))\n",
        "            file.write(\"\\n\")\n",
        "        except :\n",
        "            continue\n",
        "\n",
        "with open('Pola_neutral_data.txt', 'w') as file:\n",
        "\n",
        "    \n",
        "    for i in range( len(pd.DataFrame(dic_sentiment_neutral) )):\n",
        "        try :\n",
        "            tmp = pd.DataFrame(dic_sentiment_neutral)['sentiment'][i]\n",
        "\n",
        "            cmp = pd.DataFrame(dic_sentiment_neutral)['sentence'][i]\n",
        "\n",
        "            file.write( \"{0}, {1}\" .format(cmp,tmp))\n",
        "            file.write(\"\\n\")\n",
        "        except :\n",
        "            continue\n",
        "\n",
        "with open('Pola_negative_data.txt', 'w') as file:\n",
        "\n",
        "    \n",
        "    for i in range( len(pd.DataFrame(dic_sentiment_negative) )):\n",
        "        try :\n",
        "            tmp = pd.DataFrame(dic_sentiment_negative)['sentiment'][i]\n",
        "\n",
        "            cmp = pd.DataFrame(dic_sentiment_negative)['sentence'][i]\n",
        "\n",
        "            file.write( \"{0}, {1}\" .format(cmp,tmp))\n",
        "            file.write(\"\\n\")\n",
        "        except :\n",
        "            continue"
      ],
      "metadata": {
        "id": "hHb-UkS9ogn4"
      },
      "execution_count": null,
      "outputs": []
    },
    {
      "cell_type": "code",
      "source": [],
      "metadata": {
        "id": "U96aQzLOwxle"
      },
      "execution_count": null,
      "outputs": []
    }
  ]
}